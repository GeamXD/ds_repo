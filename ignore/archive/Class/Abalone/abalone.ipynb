{
 "cells": [
  {
   "attachments": {},
   "cell_type": "markdown",
   "metadata": {},
   "source": [
    "# Hypothesis Testing\n",
    "- I am carrying out an experiment on the Abalone Tree species\n",
    "#### NULL HYPOTHESIS:\n",
    "- there is no difference in number of rings as the trees height increases.\n",
    "#### AlTERNATE HYPOTHESIS:\n",
    "- there is an increase in number of rings as the tree's height increases\n",
    "\n",
    "#### QUESTION FOR ML MODEL:\n",
    "- LINEAR MODEL: Predict the number of rings of trees using their heights(classification)\n",
    "- Testing using Logistic Regression and Decision TREE"
   ]
  },
  {
   "cell_type": "markdown",
   "metadata": {},
   "source": []
  },
  {
   "cell_type": "code",
   "execution_count": 1,
   "metadata": {},
   "outputs": [],
   "source": [
    "# import libraries\n",
    "\n",
    "import pandas as pd\n",
    "import seaborn as sns\n",
    "import plotly.express as px\n",
    "import matplotlib.pyplot as plt\n",
    "import numpy as np\n",
    "from sklearn.linear_model import LogisticRegression\n",
    "from sklearn.linear_model import LinearRegression\n",
    "from sklearn.metrics import mean_absolute_error, mean_squared_error, accuracy_score\n",
    "from category_encoders import OrdinalEncoder"
   ]
  },
  {
   "attachments": {},
   "cell_type": "markdown",
   "metadata": {},
   "source": [
    "# DATA VALIDATION OF ALBALONE TREE DATE\n",
    "\n",
    "I carried out data validation on the dataset and There are no duplicates or missing value in the dataset.\n",
    "I analyzed each column of the dataset to ensure it is up to specification:\n",
    "\n",
    "\n",
    "- Sex: Everything was according to specifications\n",
    "- Lenght: Everything was according to specifications\n",
    "- Diameter: Everything was according to specifications\n",
    "- Height: Everything was according to specifications\n",
    "- Whole_Weight: Everything was according to specifications\n",
    "- Shucked_Weight: Everything was according to specifications\n",
    "- Viscera_Weight: Everything was according to specifications\n",
    "- Shell_Weight: Everything was according to specifications\n",
    "- Rings: There were 29 Distinct grouping in dataset, so i converted it to 4 type.\n",
    "- **Rings_cat**: New category column with this specifications\n",
    "    - type A: 1 - 7\n",
    "    - type B: 8 - 14\n",
    "    - type C: 15 - 21\n",
    "    - type D: 22 - 29"
   ]
  },
  {
   "attachments": {},
   "cell_type": "markdown",
   "metadata": {},
   "source": [
    "# EXPLORATORY ANALYSIS\n",
    "= USING GROUPING FOR RINGS "
   ]
  },
  {
   "cell_type": "code",
   "execution_count": 84,
   "metadata": {},
   "outputs": [],
   "source": [
    "# wrangle function\n",
    "def wrangle(filepath):\n",
    "    df = pd.read_csv(filepath)\n",
    "\n",
    "    # Convert Sex Column to category\n",
    "    df['Sex'] = df['Sex'].astype('category')\n",
    "    \n",
    "    # Set index name to index for dataframe\n",
    "    df.index.name = 'index'\n",
    "    \n",
    "    # Dictionary for Rings_Cat colum\n",
    "    rings_dict = {\n",
    "        'type A': range(1, 8),\n",
    "        'type B': range(8, 15),\n",
    "        'type C': range(15, 22),\n",
    "        'type D': range(22, 30)\n",
    "    }\n",
    "    \n",
    "    # Create Rings_cat column in dataframe\n",
    "    dct = []\n",
    "    for _, row in df.iterrows():\n",
    "        if row['Rings'] in rings_dict['type A']:\n",
    "            dct.append(list(rings_dict.keys())[0])\n",
    "        elif row['Rings'] in rings_dict['type B']:\n",
    "            dct.append(list(rings_dict.keys())[1])\n",
    "        elif row['Rings'] in rings_dict['type C']:\n",
    "            dct.append(list(rings_dict.keys())[2])\n",
    "        else:\n",
    "            dct.append(list(rings_dict.keys())[3])\n",
    "    df['Rings_cat'] = dct\n",
    "    \n",
    "    # Convert Rings_cat to Category\n",
    "    df['Rings_cat'] = df['Rings_cat'].astype('category')\n",
    "    \n",
    "    # Return dataframe\n",
    "    return df"
   ]
  },
  {
   "cell_type": "code",
   "execution_count": 85,
   "metadata": {},
   "outputs": [
    {
     "name": "stdout",
     "output_type": "stream",
     "text": [
      "<class 'pandas.core.frame.DataFrame'>\n",
      "RangeIndex: 4177 entries, 0 to 4176\n",
      "Data columns (total 10 columns):\n",
      " #   Column          Non-Null Count  Dtype   \n",
      "---  ------          --------------  -----   \n",
      " 0   Sex             4177 non-null   category\n",
      " 1   Length          4177 non-null   float64 \n",
      " 2   Diameter        4177 non-null   float64 \n",
      " 3   Height          4177 non-null   float64 \n",
      " 4   Whole_Weight    4177 non-null   float64 \n",
      " 5   Shucked_Weight  4177 non-null   float64 \n",
      " 6   Viscera_Weight  4177 non-null   float64 \n",
      " 7   Shell_Weight    4177 non-null   float64 \n",
      " 8   Rings           4177 non-null   int64   \n",
      " 9   Rings_cat       4177 non-null   category\n",
      "dtypes: category(2), float64(7), int64(1)\n",
      "memory usage: 269.7 KB\n"
     ]
    }
   ],
   "source": [
    "df = wrangle('./Class_Abalone.csv')\n",
    "df.info()"
   ]
  },
  {
   "cell_type": "code",
   "execution_count": 87,
   "metadata": {},
   "outputs": [
    {
     "data": {
      "text/plain": [
       "array([15, 20, 16, 19, 18, 21, 17])"
      ]
     },
     "execution_count": 87,
     "metadata": {},
     "output_type": "execute_result"
    }
   ],
   "source": [
    "df.head()\n",
    "mask = df['Rings_cat'] == 'type C'\n",
    "df[mask].Rings.unique()"
   ]
  },
  {
   "cell_type": "code",
   "execution_count": null,
   "metadata": {},
   "outputs": [],
   "source": []
  }
 ],
 "metadata": {
  "kernelspec": {
   "display_name": "Python 3",
   "language": "python",
   "name": "python3"
  },
  "language_info": {
   "codemirror_mode": {
    "name": "ipython",
    "version": 3
   },
   "file_extension": ".py",
   "mimetype": "text/x-python",
   "name": "python",
   "nbconvert_exporter": "python",
   "pygments_lexer": "ipython3",
   "version": "3.10.6"
  },
  "orig_nbformat": 4
 },
 "nbformat": 4,
 "nbformat_minor": 2
}
