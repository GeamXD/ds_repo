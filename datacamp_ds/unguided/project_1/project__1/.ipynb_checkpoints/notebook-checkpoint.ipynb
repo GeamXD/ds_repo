{
 "cells": [
  {
   "cell_type": "markdown",
   "id": "a09e6d54-bf3f-4632-b299-bd49d5c80d5f",
   "metadata": {},
   "source": [
    "![Two data scientists working on a dashboard.](hr-image-small.png)\n",
    "\n",
    "A common problem when creating models to generate business value from data is that the datasets can be so large that it can take days for the model to generate predictions. Ensuring that your dataset is stored as efficiently as possible is crucial for allowing these models to run on a more reasonable timescale without having to reduce the size of the dataset.\n",
    "\n",
    "You've been hired by a major online data science training provider called *Training Data Ltd.* to clean up one of their largest customer datasets. This dataset will eventually be used to predict whether their students are looking for a new job or not, information that they will then use to direct them to prospective recruiters.\n",
    "\n",
    "You've been given access to `customer_train.csv`, which is a subset of their entire customer dataset, so you can create a proof-of-concept of a much more efficient storage solution. The dataset contains anonymized student information, and whether they were looking for a new job or not during training:\n",
    "\n",
    "| Column       | Description                                  |\n",
    "|------------- |--------------------------------------------- |\n",
    "| `student_id`   | A unique ID for each student.                 |\n",
    "| `city`  | A code for the city the student lives in.  |\n",
    "| `city_development_index` | A scaled development index for the city.       |\n",
    "| `gender` | The student's gender.       |\n",
    "| `relevant_experience` | An indicator of the student's relevant experience.       |\n",
    "| `enrolled_university` | The type of university course enrolled in (if any).       |\n",
    "| `education_level` | The student's education level.       |\n",
    "| `major_discipline` | The educational discipline of the student.       |\n",
    "| `experience` | The student's total experience (in years).       |\n",
    "| `company_size` | The number of employees at the student's current employer.       |\n",
    "| `last_new_job` | The number of years between the student's current and previous jobs.       |\n",
    "| `training_hours` | The number of hours of training completed.       |\n",
    "| `job_change` | An indicator of whether the student is looking for a new job (`1`) or not (`0`).       |"
   ]
  },
  {
   "cell_type": "code",
   "execution_count": null,
   "id": "95b32bf8",
   "metadata": {},
   "outputs": [],
   "source": []
  },
  {
   "cell_type": "code",
   "execution_count": 1,
   "id": "eda9c1b2-4e9a-41ac-8da6-d4c98775f986",
   "metadata": {},
   "outputs": [],
   "source": [
    "            # Start your code here!\n",
    "import pandas as pd\n",
    "import numpy as np\n",
    "from data import CustomerAnalytics"
   ]
  },
  {
   "cell_type": "code",
   "execution_count": 3,
   "id": "11def16b",
   "metadata": {},
   "outputs": [
    {
     "name": "stdout",
     "output_type": "stream",
     "text": [
      "<class 'pandas.core.frame.DataFrame'>\n",
      "Int64Index: 2015 entries, 9 to 19143\n",
      "Data columns (total 14 columns):\n",
      " #   Column                  Non-Null Count  Dtype   \n",
      "---  ------                  --------------  -----   \n",
      " 0   student_id              2015 non-null   int32   \n",
      " 1   city                    2015 non-null   category\n",
      " 2   city_development_index  2015 non-null   float16 \n",
      " 3   gender                  2015 non-null   category\n",
      " 4   relevant_experience     2015 non-null   category\n",
      " 5   enrolled_university     2015 non-null   category\n",
      " 6   education_level         2015 non-null   category\n",
      " 7   major_discipline        2015 non-null   category\n",
      " 8   experience              2015 non-null   category\n",
      " 9   company_size            2015 non-null   category\n",
      " 10  company_type            2015 non-null   category\n",
      " 11  last_new_job            2015 non-null   category\n",
      " 12  training_hours          2015 non-null   int32   \n",
      " 13  job_change              2015 non-null   float16 \n",
      "dtypes: category(10), float16(2), int32(2)\n",
      "memory usage: 66.4 KB\n"
     ]
    }
   ],
   "source": [
    "repo = CustomerAnalytics(wrangled=True)\n",
    "df = repo.wrangle()\n",
    "df.info()"
   ]
  },
  {
   "cell_type": "markdown",
   "id": "934b8491",
   "metadata": {},
   "source": [
    "presense of null values\n",
    " Columns containing integers must be stored as 32-bit integers (int32).\n",
    "- Columns containing floats must be stored as 16-bit floats (float16).\n",
    "- Columns containing nominal categorical data must be stored as the category data type.\n",
    "- Columns containing ordinal categorical data must be stored as ordered categories, with an order that reflects the natural order of the column.\n",
    "- The columns of ds_jobs_clean must be in the same order as the original dataset.\n",
    "- The DataFrame should be filtered to only contain students with 10 or more years of experience at companies with at least 1000 employees, as their recruiter base is suited to more experienced professionals at enterprise companies.\n",
    "- The final line must be ds_jobs_clean.head(100) to return only the first 100 rows.\n"
   ]
  },
  {
   "cell_type": "code",
   "execution_count": null,
   "id": "7e251bf1",
   "metadata": {},
   "outputs": [],
   "source": [
    "df.info()"
   ]
  },
  {
   "cell_type": "code",
   "execution_count": 11,
   "id": "9162756d",
   "metadata": {},
   "outputs": [
    {
     "ename": "SyntaxError",
     "evalue": "invalid syntax (3345406202.py, line 2)",
     "output_type": "error",
     "traceback": [
      "\u001b[0;36m  Cell \u001b[0;32mIn[11], line 2\u001b[0;36m\u001b[0m\n\u001b[0;31m    autoreload 2\u001b[0m\n\u001b[0m               ^\u001b[0m\n\u001b[0;31mSyntaxError\u001b[0m\u001b[0;31m:\u001b[0m invalid syntax\n"
     ]
    }
   ],
   "source": [
    "import autoreload\n",
    "autoreload 2"
   ]
  },
  {
   "cell_type": "code",
   "execution_count": null,
   "id": "5ea17ea6",
   "metadata": {},
   "outputs": [],
   "source": []
  }
 ],
 "metadata": {
  "editor": "DataCamp Workspace",
  "kernelspec": {
   "display_name": "Python 3 (ipykernel)",
   "language": "python",
   "name": "python3"
  },
  "language_info": {
   "codemirror_mode": {
    "name": "ipython",
    "version": 3
   },
   "file_extension": ".py",
   "mimetype": "text/x-python",
   "name": "python",
   "nbconvert_exporter": "python",
   "pygments_lexer": "ipython3",
   "version": "3.10.6"
  },
  "varInspector": {
   "cols": {
    "lenName": 16,
    "lenType": 16,
    "lenVar": 40
   },
   "kernels_config": {
    "python": {
     "delete_cmd_postfix": "",
     "delete_cmd_prefix": "del ",
     "library": "var_list.py",
     "varRefreshCmd": "print(var_dic_list())"
    },
    "r": {
     "delete_cmd_postfix": ") ",
     "delete_cmd_prefix": "rm(",
     "library": "var_list.r",
     "varRefreshCmd": "cat(var_dic_list()) "
    }
   },
   "types_to_exclude": [
    "module",
    "function",
    "builtin_function_or_method",
    "instance",
    "_Feature"
   ],
   "window_display": false
  }
 },
 "nbformat": 4,
 "nbformat_minor": 5
}
