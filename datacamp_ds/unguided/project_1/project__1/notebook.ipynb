{
 "cells": [
  {
   "attachments": {},
   "cell_type": "markdown",
   "id": "a09e6d54-bf3f-4632-b299-bd49d5c80d5f",
   "metadata": {},
   "source": [
    "![Two data scientists working on a dashboard.](hr-image-small.png)\n",
    "\n",
    "A common problem when creating models to generate business value from data is that the datasets can be so large that it can take days for the model to generate predictions. Ensuring that your dataset is stored as efficiently as possible is crucial for allowing these models to run on a more reasonable timescale without having to reduce the size of the dataset.\n",
    "\n",
    "You've been hired by a major online data science training provider called *Training Data Ltd.* to clean up one of their largest customer datasets. This dataset will eventually be used to predict whether their students are looking for a new job or not, information that they will then use to direct them to prospective recruiters.\n",
    "\n",
    "You've been given access to `customer_train.csv`, which is a subset of their entire customer dataset, so you can create a proof-of-concept of a much more efficient storage solution. The dataset contains anonymized student information, and whether they were looking for a new job or not during training:\n",
    "\n",
    "| Column       | Description                                  |\n",
    "|------------- |--------------------------------------------- |\n",
    "| `student_id`   | A unique ID for each student.                 |\n",
    "| `city`  | A code for the city the student lives in.  |\n",
    "| `city_development_index` | A scaled development index for the city.       |\n",
    "| `gender` | The student's gender.       |\n",
    "| `relevant_experience` | An indicator of the student's relevant experience.       |\n",
    "| `enrolled_university` | The type of university course enrolled in (if any).       |\n",
    "| `education_level` | The student's education level.       |\n",
    "| `major_discipline` | The educational discipline of the student.       |\n",
    "| `experience` | The student's total experience (in years).       |\n",
    "| `company_size` | The number of employees at the student's current employer.       |\n",
    "| `last_new_job` | The number of years between the student's current and previous jobs.       |\n",
    "| `training_hours` | The number of hours of training completed.       |\n",
    "| `job_change` | An indicator of whether the student is looking for a new job (`1`) or not (`0`).       |"
   ]
  },
  {
   "cell_type": "code",
   "execution_count": 1,
   "id": "eda9c1b2-4e9a-41ac-8da6-d4c98775f986",
   "metadata": {},
   "outputs": [],
   "source": [
    " # Start your code here!\n",
    "%load_ext autoreload\n",
    "%autoreload 2\n",
    "\n",
    "import pandas as pd\n",
    "import numpy as np\n",
    "from data import CustomerAnalytics\n",
    "from data import BuildModel\n",
    "import matplotlib.pyplot as plt\n",
    "import plotly.express as px\n",
    "import seaborn as sns\n",
    "from data import BuildModel"
   ]
  },
  {
   "attachments": {},
   "cell_type": "markdown",
   "id": "f4c831d2",
   "metadata": {},
   "source": [
    "# Predicting that a student will not what to change jobs"
   ]
  },
  {
   "cell_type": "code",
   "execution_count": 4,
   "id": "df013d28",
   "metadata": {},
   "outputs": [],
   "source": [
    "model = BuildModel()\n",
    "cus = CustomerAnalytics()\n"
   ]
  },
  {
   "cell_type": "code",
   "execution_count": 7,
   "id": "60328548",
   "metadata": {},
   "outputs": [
    {
     "data": {
      "text/plain": [
       "Index(['student_id', 'city', 'city_development_index', 'gender',\n",
       "       'relevant_experience', 'enrolled_university', 'education_level',\n",
       "       'major_discipline', 'experience', 'company_size', 'company_type',\n",
       "       'last_new_job', 'training_hours', 'job_change'],\n",
       "      dtype='object')"
      ]
     },
     "execution_count": 7,
     "metadata": {},
     "output_type": "execute_result"
    }
   ],
   "source": [
    "df = cus.wrangle()\n",
    "df.columns"
   ]
  },
  {
   "cell_type": "code",
   "execution_count": null,
   "id": "893e5701",
   "metadata": {},
   "outputs": [],
   "source": [
    "['gender', 'relevant_experience', 'enrolled_university', 'education_level', 'major_discipline', 'experience', 'company_size', 'company_type', 'last_new_job', 'training_hours', 'job_change']"
   ]
  }
 ],
 "metadata": {
  "editor": "DataCamp Workspace",
  "kernelspec": {
   "display_name": "Python 3 (ipykernel)",
   "language": "python",
   "name": "python3"
  },
  "language_info": {
   "codemirror_mode": {
    "name": "ipython",
    "version": 3
   },
   "file_extension": ".py",
   "mimetype": "text/x-python",
   "name": "python",
   "nbconvert_exporter": "python",
   "pygments_lexer": "ipython3",
   "version": "3.10.6"
  },
  "varInspector": {
   "cols": {
    "lenName": 16,
    "lenType": 16,
    "lenVar": 40
   },
   "kernels_config": {
    "python": {
     "delete_cmd_postfix": "",
     "delete_cmd_prefix": "del ",
     "library": "var_list.py",
     "varRefreshCmd": "print(var_dic_list())"
    },
    "r": {
     "delete_cmd_postfix": ") ",
     "delete_cmd_prefix": "rm(",
     "library": "var_list.r",
     "varRefreshCmd": "cat(var_dic_list()) "
    }
   },
   "types_to_exclude": [
    "module",
    "function",
    "builtin_function_or_method",
    "instance",
    "_Feature"
   ],
   "window_display": false
  }
 },
 "nbformat": 4,
 "nbformat_minor": 5
}
