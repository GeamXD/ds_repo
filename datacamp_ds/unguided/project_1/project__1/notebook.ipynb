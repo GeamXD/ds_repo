{
 "cells": [
  {
   "attachments": {},
   "cell_type": "markdown",
   "id": "a09e6d54-bf3f-4632-b299-bd49d5c80d5f",
   "metadata": {},
   "source": [
    "![Two data scientists working on a dashboard.](hr-image-small.png)\n",
    "\n",
    "A common problem when creating models to generate business value from data is that the datasets can be so large that it can take days for the model to generate predictions. Ensuring that your dataset is stored as efficiently as possible is crucial for allowing these models to run on a more reasonable timescale without having to reduce the size of the dataset.\n",
    "\n",
    "You've been hired by a major online data science training provider called *Training Data Ltd.* to clean up one of their largest customer datasets. This dataset will eventually be used to predict whether their students are looking for a new job or not, information that they will then use to direct them to prospective recruiters.\n",
    "\n",
    "You've been given access to `customer_train.csv`, which is a subset of their entire customer dataset, so you can create a proof-of-concept of a much more efficient storage solution. The dataset contains anonymized student information, and whether they were looking for a new job or not during training:\n",
    "\n",
    "| Column       | Description                                  |\n",
    "|------------- |--------------------------------------------- |\n",
    "| `student_id`   | A unique ID for each student.                 |\n",
    "| `city`  | A code for the city the student lives in.  |\n",
    "| `city_development_index` | A scaled development index for the city.       |\n",
    "| `gender` | The student's gender.       |\n",
    "| `relevant_experience` | An indicator of the student's relevant experience.       |\n",
    "| `enrolled_university` | The type of university course enrolled in (if any).       |\n",
    "| `education_level` | The student's education level.       |\n",
    "| `major_discipline` | The educational discipline of the student.       |\n",
    "| `experience` | The student's total experience (in years).       |\n",
    "| `company_size` | The number of employees at the student's current employer.       |\n",
    "| `last_new_job` | The number of years between the student's current and previous jobs.       |\n",
    "| `training_hours` | The number of hours of training completed.       |\n",
    "| `job_change` | An indicator of whether the student is looking for a new job (`1`) or not (`0`).       |"
   ]
  },
  {
   "cell_type": "code",
   "execution_count": null,
   "id": "eda9c1b2-4e9a-41ac-8da6-d4c98775f986",
   "metadata": {},
   "outputs": [],
   "source": [
    " # Start your code here!\n",
    "%load_ext autoreload\n",
    "%autoreload 2\n",
    "\n",
    "import pandas as pd\n",
    "import numpy as np\n",
    "from data import CustomerAnalytics\n",
    "from data import BuildModel\n",
    "import matplotlib.pyplot as plt\n",
    "import plotly.express as px\n",
    "import seaborn as sns\n",
    "from data import BuildModel"
   ]
  },
  {
   "attachments": {},
   "cell_type": "markdown",
   "id": "f4c831d2",
   "metadata": {},
   "source": [
    "# Predicting that a student will not what to change jobs"
   ]
  },
  {
   "cell_type": "code",
   "execution_count": null,
   "id": "df013d28",
   "metadata": {},
   "outputs": [],
   "source": [
    "model = BuildModel()"
   ]
  },
  {
   "cell_type": "code",
   "execution_count": null,
   "id": "d4970094",
   "metadata": {},
   "outputs": [],
   "source": [
    "# my_dict = {'gender': ['Other', 'Male', 'Female'],\n",
    "#  'relevant_experience': ['Has relevant experience', 'No relevant experience'],\n",
    "#  'enrolled_university': ['Full time course', 'Part time course', 'no_enrollment'],\n",
    "#  'education_level': ['Primary School', 'High School', 'Graduate', 'Masters', 'Phd'],\n",
    "#  'major_discipline': ['Arts', 'Business Degree', 'Humanities', 'No Major', 'Other', 'STEM'],\n",
    "#  'experience': ['10', '11', '12', '13', '14', '15', '16', '17', '18', '19', '20', '>20'],\n",
    "#  'company_size': ['<10', '10-49', '50-99', '100-499', '500-999', '1000-4999', '5000-9999', '10000+'],\n",
    "#  'company_type': ['Early Stage Startup', 'Funded Startup', 'NGO', 'Other', 'Public Sector', 'Pvt Ltd'],\n",
    "#  'last_new_job': ['never', '1', '2', '3', '4', '>4'],\n",
    "#  'training_hours': 'Any value'}\n",
    "\n",
    "# my_dict"
   ]
  },
  {
   "cell_type": "code",
   "execution_count": null,
   "id": "be95b8b4",
   "metadata": {},
   "outputs": [],
   "source": [
    "model.dump()"
   ]
  },
  {
   "cell_type": "code",
   "execution_count": null,
   "id": "06944a63",
   "metadata": {},
   "outputs": [],
   "source": [
    "model.evaluate()\n",
    "model."
   ]
  },
  {
   "cell_type": "code",
   "execution_count": null,
   "id": "48dd79c6",
   "metadata": {},
   "outputs": [],
   "source": []
  }
 ],
 "metadata": {
  "editor": "DataCamp Workspace",
  "kernelspec": {
   "display_name": "Python 3 (ipykernel)",
   "language": "python",
   "name": "python3"
  },
  "varInspector": {
   "cols": {
    "lenName": 16,
    "lenType": 16,
    "lenVar": 40
   },
   "kernels_config": {
    "python": {
     "delete_cmd_postfix": "",
     "delete_cmd_prefix": "del ",
     "library": "var_list.py",
     "varRefreshCmd": "print(var_dic_list())"
    },
    "r": {
     "delete_cmd_postfix": ") ",
     "delete_cmd_prefix": "rm(",
     "library": "var_list.r",
     "varRefreshCmd": "cat(var_dic_list()) "
    }
   },
   "types_to_exclude": [
    "module",
    "function",
    "builtin_function_or_method",
    "instance",
    "_Feature"
   ],
   "window_display": false
  }
 },
 "nbformat": 4,
 "nbformat_minor": 5
}
