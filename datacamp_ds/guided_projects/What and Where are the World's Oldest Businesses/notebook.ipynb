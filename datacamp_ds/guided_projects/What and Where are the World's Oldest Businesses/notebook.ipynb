{
 "cells": [
  {
   "cell_type": "markdown",
   "metadata": {
    "dc": {
     "key": "4"
    },
    "deletable": false,
    "editable": false,
    "run_control": {
     "frozen": true
    },
    "tags": [
     "context"
    ]
   },
   "source": [
    "## 1. The oldest businesses in the world\n",
    "<p>This is Staffelter Hof Winery, Germany's oldest business, which was established in 862 under the Carolingian dynasty. It has continued to serve customers through dramatic changes in Europe such as the Holy Roman Empire, the Ottoman Empire, and both world wars. What characteristics enable a business to stand the test of time? Image credit: <a href=\"https://commons.wikimedia.org/wiki/File:MKn_Staffelter_Hof.jpg\">Martin Kraft</a>\n",
    "<img src=\"https://assets.datacamp.com/production/project_1383/./img/MKn_Staffelter_Hof.jpeg\" alt=\"The entrance to Staffelter Hof Winery, a German winery established in 862.\" width=\"400\"></p>\n",
    "<p>To help answer this question, BusinessFinancing.co.uk <a href=\"https://businessfinancing.co.uk/the-oldest-company-in-almost-every-country\">researched</a> the oldest company that is still in business in almost every country and compiled the results into a dataset. Let's explore this work to to better understand these historic businesses. Our datasets, which are all located in the <code>datasets</code> directory, contain the following information: </p>\n",
    "<h3 id=\"businessesandnew_businesses\"><code>businesses</code> and <code>new_businesses</code></h3>\n",
    "<table>\n",
    "<thead>\n",
    "<tr>\n",
    "<th style=\"text-align:left;\">column</th>\n",
    "<th>type</th>\n",
    "<th>meaning</th>\n",
    "</tr>\n",
    "</thead>\n",
    "<tbody>\n",
    "<tr>\n",
    "<td style=\"text-align:left;\"><code>business</code></td>\n",
    "<td>varchar</td>\n",
    "<td>Name of the business.</td>\n",
    "</tr>\n",
    "<tr>\n",
    "<td style=\"text-align:left;\"><code>year_founded</code></td>\n",
    "<td>int</td>\n",
    "<td>Year the business was founded.</td>\n",
    "</tr>\n",
    "<tr>\n",
    "<td style=\"text-align:left;\"><code>category_code</code></td>\n",
    "<td>varchar</td>\n",
    "<td>Code for the category of the business.</td>\n",
    "</tr>\n",
    "<tr>\n",
    "<td style=\"text-align:left;\"><code>country_code</code></td>\n",
    "<td>char</td>\n",
    "<td>ISO 3166-1 3-letter country code.</td>\n",
    "</tr>\n",
    "</tbody>\n",
    "</table>\n",
    "<h3 id=\"countries\"><code>countries</code></h3>\n",
    "<table>\n",
    "<thead>\n",
    "<tr>\n",
    "<th style=\"text-align:left;\">column</th>\n",
    "<th>type</th>\n",
    "<th>meaning</th>\n",
    "</tr>\n",
    "</thead>\n",
    "<tbody>\n",
    "<tr>\n",
    "<td style=\"text-align:left;\"><code>country_code</code></td>\n",
    "<td>varchar</td>\n",
    "<td>ISO 3166-1 3-letter country code.</td>\n",
    "</tr>\n",
    "<tr>\n",
    "<td style=\"text-align:left;\"><code>country</code></td>\n",
    "<td>varchar</td>\n",
    "<td>Name of the country.</td>\n",
    "</tr>\n",
    "<tr>\n",
    "<td style=\"text-align:left;\"><code>continent</code></td>\n",
    "<td>varchar</td>\n",
    "<td>Name of the continent that the country exists in.</td>\n",
    "</tr>\n",
    "</tbody>\n",
    "</table>\n",
    "<h3 id=\"categories\"><code>categories</code></h3>\n",
    "<table>\n",
    "<thead>\n",
    "<tr>\n",
    "<th style=\"text-align:left;\">column</th>\n",
    "<th>type</th>\n",
    "<th>meaning</th>\n",
    "</tr>\n",
    "</thead>\n",
    "<tbody>\n",
    "<tr>\n",
    "<td style=\"text-align:left;\"><code>category_code</code></td>\n",
    "<td>varchar</td>\n",
    "<td>Code for the category of the business.</td>\n",
    "</tr>\n",
    "<tr>\n",
    "<td style=\"text-align:left;\"><code>category</code></td>\n",
    "<td>varchar</td>\n",
    "<td>Description of the business category.</td>\n",
    "</tr>\n",
    "</tbody>\n",
    "</table>\n",
    "<p>Now let's learn about some of the world's oldest businesses still in operation!</p>"
   ]
  },
  {
   "cell_type": "code",
   "execution_count": 127,
   "metadata": {
    "dc": {
     "key": "4"
    },
    "tags": [
     "sample_code"
    ]
   },
   "outputs": [
    {
     "name": "stdout",
     "output_type": "stream",
     "text": [
      "                                           business  year_founded  \\\n",
      "64                                       Kongō Gumi           578   \n",
      "94                      St. Peter Stifts Kulinarium           803   \n",
      "107                           Staffelter Hof Winery           862   \n",
      "106                               Monnaie de Paris            864   \n",
      "103                                  The Royal Mint           886   \n",
      "111                                      Sean's Bar           900   \n",
      "112                          Marinelli Bell Foundry          1040   \n",
      "96                                 Affligem Brewery          1074   \n",
      "102                                     Munke Mølle          1135   \n",
      "58               Ma Yu Ching's Bucket Chicken House          1153   \n",
      "129                               Casa de Ganaderos          1218   \n",
      "131                                 Gasthof Sternen          1230   \n",
      "123                               Bochnia Salt Mine          1248   \n",
      "133                            Drohobych salt plant          1250   \n",
      "127                                   Kremnica Mint          1328   \n",
      "120                               The Brand Brewery          1340   \n",
      "130                                 Skyllbergs bruk          1346   \n",
      "101                                 Pivovar Broumov          1348   \n",
      "104                                       Raeapteek          1422   \n",
      "128                                 Gostilna Gastuž          1467   \n",
      "117                                          Mousel          1511   \n",
      "124                     CTT-Correios de Portugal SA          1520   \n",
      "145                     La Casa de Moneda de México          1534   \n",
      "157                         Casa Nacional de Moneda          1565   \n",
      "132                              Çemberlitaş Hamamı          1584   \n",
      "114                                       Cēsu Alus          1590   \n",
      "108                                    Piraeus Bank          1606   \n",
      "155                      Casa de Moneda de Colombia          1621   \n",
      "150                              Shirley Plantation          1638   \n",
      "122                                    Posten Norge          1647   \n",
      "..                                              ...           ...   \n",
      "5                  Cameroon Development Corporation          1947   \n",
      "72                        Myanmar National Airlines          1948   \n",
      "78           Salam International Investment Limited          1952   \n",
      "57                        National Bank of Cambodia          1954   \n",
      "4                                           Brarudi          1955   \n",
      "27      Office de Radiodiffusion-Télévision du Mali          1957   \n",
      "55                                      Tashi Group          1959   \n",
      "68                              Electricite du Laos          1959   \n",
      "33          Office of Radio and Television of Niger          1960   \n",
      "19                                     Halco Mining          1962   \n",
      "90                                  Yemenia Airways          1962   \n",
      "25                                   Air Madagascar          1962   \n",
      "44                                       Swazi Rail          1963   \n",
      "26                  Malawi Broadcasting Corporation          1964   \n",
      "2                          Botswana Meat Commission          1965   \n",
      "3                                       Air Burkina          1967   \n",
      "1                    Communauté Électrique du Bénin          1968   \n",
      "18                                   BGFIBank Group          1971   \n",
      "8                                        Cotontchad          1971   \n",
      "28                       Central Bank of Mauritania          1973   \n",
      "20                         Correios da Guiné-Bissau          1973   \n",
      "36            Central Bank of São Tomé and Príncipe          1975   \n",
      "11   Development Bank of the Central African States          1975   \n",
      "38                                   Air Seychelles          1977   \n",
      "22                          Central Bank of Lesotho          1978   \n",
      "9                       Central Bank of the Comoros          1981   \n",
      "162                          European Trust Company          1991   \n",
      "42                                       Ivory Bank          1994   \n",
      "15                       Guinea Ecuatorial Airlines          1996   \n",
      "113                            Meridian Corporation          1999   \n",
      "\n",
      "    category_code country_code  \n",
      "64           CAT6          JPN  \n",
      "94           CAT4          AUT  \n",
      "107          CAT9          DEU  \n",
      "106         CAT12          FRA  \n",
      "103         CAT12          GBR  \n",
      "111          CAT4          IRL  \n",
      "112         CAT12          ITA  \n",
      "96           CAT9          BEL  \n",
      "102         CAT12          DNK  \n",
      "58           CAT4          CHN  \n",
      "129          CAT1          ESP  \n",
      "131         CAT19          CHE  \n",
      "123         CAT15          POL  \n",
      "133         CAT12          UKR  \n",
      "127         CAT12          SVK  \n",
      "120          CAT9          NLD  \n",
      "130         CAT12          SWE  \n",
      "101          CAT9          CZE  \n",
      "104         CAT14          EST  \n",
      "128         CAT19          SVN  \n",
      "117          CAT9          LUX  \n",
      "124         CAT16          PRT  \n",
      "145         CAT12          MEX  \n",
      "157          CAT3          PER  \n",
      "132         CAT19          TUR  \n",
      "114          CAT9          LVA  \n",
      "108          CAT3          GRC  \n",
      "155         CAT12          COL  \n",
      "150          CAT1          USA  \n",
      "122         CAT16          NOR  \n",
      "..            ...          ...  \n",
      "5            CAT1          CMR  \n",
      "72           CAT2          MMR  \n",
      "78           CAT5          QAT  \n",
      "57           CAT3          KHM  \n",
      "4            CAT9          BDI  \n",
      "27          CAT13          MLI  \n",
      "55           CAT2          BTN  \n",
      "68          CAT10          LAO  \n",
      "33          CAT13          NER  \n",
      "19          CAT15          GIN  \n",
      "90           CAT2          YEM  \n",
      "25           CAT2          MDG  \n",
      "44           CAT2          SWZ  \n",
      "26          CAT13          MWI  \n",
      "2            CAT1          BWA  \n",
      "3            CAT2          BFA  \n",
      "1           CAT10          BEN  \n",
      "18           CAT3          GAB  \n",
      "8            CAT1          TCD  \n",
      "28           CAT3          MRT  \n",
      "20          CAT16          GNB  \n",
      "36           CAT3          STP  \n",
      "11           CAT3          COG  \n",
      "38           CAT2          SYC  \n",
      "22           CAT3          LSO  \n",
      "9            CAT3          COM  \n",
      "162          CAT3          VUT  \n",
      "42           CAT3          SSD  \n",
      "15           CAT2          GNQ  \n",
      "113         CAT13           XK  \n",
      "\n",
      "[163 rows x 4 columns]\n"
     ]
    }
   ],
   "source": [
    "# Import the pandas library under its usual alias \n",
    "import pandas as pd\n",
    "from skle\n",
    "# Load the business.csv file as a DataFrame called businesses\n",
    "businesses = pd.read_csv('datasets/businesses.csv')\n",
    "\n",
    "# Sort businesses from oldest businesses to youngest\n",
    "sorted_businesses = businesses.sort_values(by='year_founded')\n",
    "\n",
    "# Display the first few lines of sorted_businesses\n",
    "print(sorted_businesses)"
   ]
  },
  {
   "cell_type": "markdown",
   "metadata": {
    "dc": {
     "key": "11"
    },
    "deletable": false,
    "editable": false,
    "run_control": {
     "frozen": true
    },
    "tags": [
     "context"
    ]
   },
   "source": [
    "## 2. The oldest businesses in North America\n",
    "<p>So far we've learned that Kongō Gumi is the world's oldest continuously operating business, beating out the second oldest business by well over 100 years! It's a little hard to read the country codes, though. Wouldn't it be nice if we had a list of country names to go along with the country codes?</p>\n",
    "<p>Enter <code>countries.csv</code>, which is also located in the <code>datasets</code> folder. Having useful information in different files is a common problem: for data storage, it's better to keep different types of data separate, but for analysis, we want all the data in one place. To solve this, we'll have to join the two tables together. </p>\n",
    "<h3 id=\"countries\"><code>countries</code></h3>\n",
    "<table>\n",
    "<thead>\n",
    "<tr>\n",
    "<th style=\"text-align:left;\">column</th>\n",
    "<th>type</th>\n",
    "<th>meaning</th>\n",
    "</tr>\n",
    "</thead>\n",
    "<tbody>\n",
    "<tr>\n",
    "<td style=\"text-align:left;\"><code>country_code</code></td>\n",
    "<td>varchar</td>\n",
    "<td>ISO 3166-1 3-letter country code.</td>\n",
    "</tr>\n",
    "<tr>\n",
    "<td style=\"text-align:left;\"><code>country</code></td>\n",
    "<td>varchar</td>\n",
    "<td>Name of the country.</td>\n",
    "</tr>\n",
    "<tr>\n",
    "<td style=\"text-align:left;\"><code>continent</code></td>\n",
    "<td>varchar</td>\n",
    "<td>Name of the continent that the country exists in.</td>\n",
    "</tr>\n",
    "</tbody>\n",
    "</table>\n",
    "<p>Since <code>countries.csv</code> contains a <code>continent</code> column, merging the datasets will also allow us to look at the oldest business on each continent! </p>"
   ]
  },
  {
   "cell_type": "code",
   "execution_count": 129,
   "metadata": {
    "dc": {
     "key": "11"
    },
    "tags": [
     "sample_code"
    ]
   },
   "outputs": [
    {
     "data": {
      "text/html": [
       "<div>\n",
       "<style scoped>\n",
       "    .dataframe tbody tr th:only-of-type {\n",
       "        vertical-align: middle;\n",
       "    }\n",
       "\n",
       "    .dataframe tbody tr th {\n",
       "        vertical-align: top;\n",
       "    }\n",
       "\n",
       "    .dataframe thead th {\n",
       "        text-align: right;\n",
       "    }\n",
       "</style>\n",
       "<table border=\"1\" class=\"dataframe\">\n",
       "  <thead>\n",
       "    <tr style=\"text-align: right;\">\n",
       "      <th></th>\n",
       "      <th>business</th>\n",
       "      <th>year_founded</th>\n",
       "      <th>category_code</th>\n",
       "      <th>country_code</th>\n",
       "      <th>country</th>\n",
       "      <th>continent</th>\n",
       "    </tr>\n",
       "  </thead>\n",
       "  <tbody>\n",
       "    <tr>\n",
       "      <th>22</th>\n",
       "      <td>La Casa de Moneda de México</td>\n",
       "      <td>1534</td>\n",
       "      <td>CAT12</td>\n",
       "      <td>MEX</td>\n",
       "      <td>Mexico</td>\n",
       "      <td>North America</td>\n",
       "    </tr>\n",
       "    <tr>\n",
       "      <th>28</th>\n",
       "      <td>Shirley Plantation</td>\n",
       "      <td>1638</td>\n",
       "      <td>CAT1</td>\n",
       "      <td>USA</td>\n",
       "      <td>United States</td>\n",
       "      <td>North America</td>\n",
       "    </tr>\n",
       "    <tr>\n",
       "      <th>33</th>\n",
       "      <td>Hudson's Bay Company</td>\n",
       "      <td>1670</td>\n",
       "      <td>CAT17</td>\n",
       "      <td>CAN</td>\n",
       "      <td>Canada</td>\n",
       "      <td>North America</td>\n",
       "    </tr>\n",
       "    <tr>\n",
       "      <th>35</th>\n",
       "      <td>Mount Gay Rum</td>\n",
       "      <td>1703</td>\n",
       "      <td>CAT9</td>\n",
       "      <td>BRB</td>\n",
       "      <td>Barbados</td>\n",
       "      <td>North America</td>\n",
       "    </tr>\n",
       "    <tr>\n",
       "      <th>40</th>\n",
       "      <td>Rose Hall</td>\n",
       "      <td>1770</td>\n",
       "      <td>CAT19</td>\n",
       "      <td>JAM</td>\n",
       "      <td>Jamaica</td>\n",
       "      <td>North America</td>\n",
       "    </tr>\n",
       "  </tbody>\n",
       "</table>\n",
       "</div>"
      ],
      "text/plain": [
       "                       business  year_founded category_code country_code  \\\n",
       "22  La Casa de Moneda de México          1534         CAT12          MEX   \n",
       "28           Shirley Plantation          1638          CAT1          USA   \n",
       "33         Hudson's Bay Company          1670         CAT17          CAN   \n",
       "35                Mount Gay Rum          1703          CAT9          BRB   \n",
       "40                    Rose Hall          1770         CAT19          JAM   \n",
       "\n",
       "          country      continent  \n",
       "22         Mexico  North America  \n",
       "28  United States  North America  \n",
       "33         Canada  North America  \n",
       "35       Barbados  North America  \n",
       "40        Jamaica  North America  "
      ]
     },
     "execution_count": 129,
     "metadata": {},
     "output_type": "execute_result"
    }
   ],
   "source": [
    "# Load countries.csv to a DataFrame\n",
    "countries = pd.read_csv('datasets/countries.csv')\n",
    "\n",
    "# Merge sorted_businesses with countries\n",
    "businesses_countries = sorted_businesses.merge(countries, on='country_code')\n",
    "\n",
    "# Filter businesses_countries to include countries in North America only\n",
    "north_america = businesses_countries[businesses_countries['continent'] == 'North America']\n",
    "north_america.head()"
   ]
  },
  {
   "cell_type": "markdown",
   "metadata": {
    "dc": {
     "key": "18"
    },
    "deletable": false,
    "editable": false,
    "run_control": {
     "frozen": true
    },
    "tags": [
     "context"
    ]
   },
   "source": [
    "## 3. The oldest business on each continent\n",
    "<p>Now we can see that the oldest company in North America is La Casa de Moneda de México, founded in 1534. Why stop there, though, when we could easily find out the oldest business on every continent? </p>"
   ]
  },
  {
   "cell_type": "code",
   "execution_count": 131,
   "metadata": {
    "dc": {
     "key": "18"
    },
    "tags": [
     "sample_code"
    ]
   },
   "outputs": [
    {
     "data": {
      "text/html": [
       "<div>\n",
       "<style scoped>\n",
       "    .dataframe tbody tr th:only-of-type {\n",
       "        vertical-align: middle;\n",
       "    }\n",
       "\n",
       "    .dataframe tbody tr th {\n",
       "        vertical-align: top;\n",
       "    }\n",
       "\n",
       "    .dataframe thead th {\n",
       "        text-align: right;\n",
       "    }\n",
       "</style>\n",
       "<table border=\"1\" class=\"dataframe\">\n",
       "  <thead>\n",
       "    <tr style=\"text-align: right;\">\n",
       "      <th></th>\n",
       "      <th>continent</th>\n",
       "      <th>country</th>\n",
       "      <th>business</th>\n",
       "      <th>year_founded</th>\n",
       "    </tr>\n",
       "  </thead>\n",
       "  <tbody>\n",
       "    <tr>\n",
       "      <th>0</th>\n",
       "      <td>Africa</td>\n",
       "      <td>Mauritius</td>\n",
       "      <td>Mauritius Post</td>\n",
       "      <td>1772</td>\n",
       "    </tr>\n",
       "    <tr>\n",
       "      <th>1</th>\n",
       "      <td>Asia</td>\n",
       "      <td>Japan</td>\n",
       "      <td>Kongō Gumi</td>\n",
       "      <td>578</td>\n",
       "    </tr>\n",
       "    <tr>\n",
       "      <th>2</th>\n",
       "      <td>Europe</td>\n",
       "      <td>Austria</td>\n",
       "      <td>St. Peter Stifts Kulinarium</td>\n",
       "      <td>803</td>\n",
       "    </tr>\n",
       "    <tr>\n",
       "      <th>3</th>\n",
       "      <td>North America</td>\n",
       "      <td>Mexico</td>\n",
       "      <td>La Casa de Moneda de México</td>\n",
       "      <td>1534</td>\n",
       "    </tr>\n",
       "    <tr>\n",
       "      <th>4</th>\n",
       "      <td>Oceania</td>\n",
       "      <td>Australia</td>\n",
       "      <td>Australia Post</td>\n",
       "      <td>1809</td>\n",
       "    </tr>\n",
       "    <tr>\n",
       "      <th>5</th>\n",
       "      <td>South America</td>\n",
       "      <td>Peru</td>\n",
       "      <td>Casa Nacional de Moneda</td>\n",
       "      <td>1565</td>\n",
       "    </tr>\n",
       "  </tbody>\n",
       "</table>\n",
       "</div>"
      ],
      "text/plain": [
       "       continent    country                     business  year_founded\n",
       "0         Africa  Mauritius               Mauritius Post          1772\n",
       "1           Asia      Japan                   Kongō Gumi           578\n",
       "2         Europe    Austria  St. Peter Stifts Kulinarium           803\n",
       "3  North America     Mexico  La Casa de Moneda de México          1534\n",
       "4        Oceania  Australia               Australia Post          1809\n",
       "5  South America       Peru      Casa Nacional de Moneda          1565"
      ]
     },
     "execution_count": 131,
     "metadata": {},
     "output_type": "execute_result"
    }
   ],
   "source": [
    "# Create continent, which lists only the continent and oldest year_founded\n",
    "continent = businesses_countries.groupby('continent').agg({'year_founded': 'min'})\n",
    "# Merge continent with businesses_countries\n",
    "merged_continent = continent.merge(businesses_countries, on=['continent', 'year_founded'])\n",
    "\n",
    "# Subset continent so that only the four columns of interest are included\n",
    "subset_merged_continent = merged_continent[['continent','country', 'business', 'year_founded']]\n",
    "subset_merged_continent"
   ]
  },
  {
   "cell_type": "markdown",
   "metadata": {
    "dc": {
     "key": "25"
    },
    "deletable": false,
    "editable": false,
    "run_control": {
     "frozen": true
    },
    "tags": [
     "context"
    ]
   },
   "source": [
    "## 4. Unknown oldest businesses\n",
    "<p>BusinessFinancing.co.uk wasn't able to determine the oldest business for some countries, and those countries are simply left off of <code>businesses.csv</code> and, by extension, <code>businesses</code>. However, the <code>countries</code> that we created <em>does</em> include all countries in the world, regardless of whether the oldest business is known. </p>\n",
    "<p>We can compare the two datasets in one DataFrame to find out which countries don't have a known oldest business! </p>"
   ]
  },
  {
   "cell_type": "code",
   "execution_count": 133,
   "metadata": {
    "dc": {
     "key": "25"
    },
    "tags": [
     "sample_code"
    ]
   },
   "outputs": [
    {
     "data": {
      "text/plain": [
       "163                              Angola\n",
       "164                 Antigua and Barbuda\n",
       "165                             Bahamas\n",
       "166                  Dominican Republic\n",
       "167                             Ecuador\n",
       "168                                Fiji\n",
       "169     Micronesia, Federated States of\n",
       "170                               Ghana\n",
       "171                              Gambia\n",
       "172                             Grenada\n",
       "173           Iran, Islamic Republic of\n",
       "174                          Kyrgyzstan\n",
       "175                            Kiribati\n",
       "176               Saint Kitts and Nevis\n",
       "177                              Monaco\n",
       "178                Moldova, Republic of\n",
       "179                            Maldives\n",
       "180                    Marshall Islands\n",
       "181                               Nauru\n",
       "182                               Palau\n",
       "183                    Papua New Guinea\n",
       "184                            Paraguay\n",
       "185                 Palestine, State of\n",
       "186                     Solomon Islands\n",
       "187                            Suriname\n",
       "188                          Tajikistan\n",
       "189                        Turkmenistan\n",
       "190                         Timor-Leste\n",
       "191                               Tonga\n",
       "192                              Tuvalu\n",
       "193    Saint Vincent and the Grenadines\n",
       "194                               Samoa\n",
       "Name: country, dtype: object"
      ]
     },
     "execution_count": 133,
     "metadata": {},
     "output_type": "execute_result"
    }
   ],
   "source": [
    "# Use .merge() to create a DataFrame, all_countries\n",
    "all_countries = businesses.merge(countries, on='country_code', how='right', indicator=True)\n",
    "\n",
    "# Filter to include only countries without oldest businesses\n",
    "missing_countries = all_countries[all_countries['_merge'] != 'both']\n",
    "\n",
    "# Create a series of the country names with missing oldest business data\n",
    "missing_countries_series = missing_countries['country']\n",
    "\n",
    "# Display the series\n",
    "missing_countries_series"
   ]
  },
  {
   "cell_type": "markdown",
   "metadata": {
    "dc": {
     "key": "32"
    },
    "deletable": false,
    "editable": false,
    "run_control": {
     "frozen": true
    },
    "tags": [
     "context"
    ]
   },
   "source": [
    "## 5. Adding new oldest business data\n",
    "<p>It looks like we've got some holes in our dataset! Fortunately, we've taken it upon ourselves to improve upon BusinessFinancing.co.uk's work and find oldest businesses in a few of the missing countries. We've stored the newfound oldest businesses in <code>new_businesses</code>, located at <code>\"datasets/new_businesses.csv\"</code>. It has the exact same structure as our <code>businesses</code> dataset. </p>\n",
    "<h3 id=\"new_businesses\"><code>new_businesses</code></h3>\n",
    "<table>\n",
    "<thead>\n",
    "<tr>\n",
    "<th style=\"text-align:left;\">column</th>\n",
    "<th>type</th>\n",
    "<th>meaning</th>\n",
    "</tr>\n",
    "</thead>\n",
    "<tbody>\n",
    "<tr>\n",
    "<td style=\"text-align:left;\"><code>business</code></td>\n",
    "<td>varchar</td>\n",
    "<td>Name of the business.</td>\n",
    "</tr>\n",
    "<tr>\n",
    "<td style=\"text-align:left;\"><code>year_founded</code></td>\n",
    "<td>int</td>\n",
    "<td>Year the business was founded.</td>\n",
    "</tr>\n",
    "<tr>\n",
    "<td style=\"text-align:left;\"><code>category_code</code></td>\n",
    "<td>varchar</td>\n",
    "<td>Code for the category of the business.</td>\n",
    "</tr>\n",
    "<tr>\n",
    "<td style=\"text-align:left;\"><code>country_code</code></td>\n",
    "<td>char</td>\n",
    "<td>ISO 3166-1 3-letter country code.</td>\n",
    "</tr>\n",
    "</tbody>\n",
    "</table>\n",
    "<p>All we have to do is combine the two so that we've got one more complete list of businesses!</p>"
   ]
  },
  {
   "cell_type": "code",
   "execution_count": 135,
   "metadata": {
    "dc": {
     "key": "32"
    },
    "tags": [
     "sample_code"
    ]
   },
   "outputs": [
    {
     "data": {
      "text/html": [
       "<div>\n",
       "<style scoped>\n",
       "    .dataframe tbody tr th:only-of-type {\n",
       "        vertical-align: middle;\n",
       "    }\n",
       "\n",
       "    .dataframe tbody tr th {\n",
       "        vertical-align: top;\n",
       "    }\n",
       "\n",
       "    .dataframe thead th {\n",
       "        text-align: right;\n",
       "    }\n",
       "</style>\n",
       "<table border=\"1\" class=\"dataframe\">\n",
       "  <thead>\n",
       "    <tr style=\"text-align: right;\">\n",
       "      <th></th>\n",
       "      <th>count_missing</th>\n",
       "    </tr>\n",
       "    <tr>\n",
       "      <th>continent</th>\n",
       "      <th></th>\n",
       "    </tr>\n",
       "  </thead>\n",
       "  <tbody>\n",
       "    <tr>\n",
       "      <th>Africa</th>\n",
       "      <td>3</td>\n",
       "    </tr>\n",
       "    <tr>\n",
       "      <th>Asia</th>\n",
       "      <td>7</td>\n",
       "    </tr>\n",
       "    <tr>\n",
       "      <th>Europe</th>\n",
       "      <td>2</td>\n",
       "    </tr>\n",
       "    <tr>\n",
       "      <th>North America</th>\n",
       "      <td>5</td>\n",
       "    </tr>\n",
       "    <tr>\n",
       "      <th>Oceania</th>\n",
       "      <td>10</td>\n",
       "    </tr>\n",
       "    <tr>\n",
       "      <th>South America</th>\n",
       "      <td>3</td>\n",
       "    </tr>\n",
       "  </tbody>\n",
       "</table>\n",
       "</div>"
      ],
      "text/plain": [
       "               count_missing\n",
       "continent                   \n",
       "Africa                     3\n",
       "Asia                       7\n",
       "Europe                     2\n",
       "North America              5\n",
       "Oceania                   10\n",
       "South America              3"
      ]
     },
     "execution_count": 135,
     "metadata": {},
     "output_type": "execute_result"
    }
   ],
   "source": [
    "# Import new_businesses.csv\n",
    "new_businesses = pd.read_csv('datasets/new_businesses.csv')\n",
    "\n",
    "# Add the data in new_businesses to the existing businesses\n",
    "all_businesses = pd.concat([new_businesses, businesses])\n",
    "\n",
    "# Merge and filter to find countries with missing business data\n",
    "new_all_countries = all_businesses.merge(countries, on='country_code', how='outer', indicator=True)\n",
    "new_missing_countries = new_all_countries[new_all_countries['_merge'] != 'both']\n",
    "\n",
    "# Group by continent and create a \"count_missing\" column\n",
    "count_missing = new_missing_countries.groupby('continent').agg({'country':'count'})\n",
    "count_missing.columns = ['count_missing']\n",
    "count_missing"
   ]
  },
  {
   "cell_type": "markdown",
   "metadata": {
    "dc": {
     "key": "39"
    },
    "deletable": false,
    "editable": false,
    "run_control": {
     "frozen": true
    },
    "tags": [
     "context"
    ]
   },
   "source": [
    "## 6. The oldest industries\n",
    "<p>Remember our oldest business in the world, Kongō Gumi? </p>\n",
    "<table>\n",
    "<thead>\n",
    "<tr>\n",
    "<th style=\"text-align:right;\"></th>\n",
    "<th style=\"text-align:left;\">business</th>\n",
    "<th style=\"text-align:right;\">year_founded</th>\n",
    "<th style=\"text-align:left;\">category_code</th>\n",
    "<th style=\"text-align:left;\">country_code</th>\n",
    "</tr>\n",
    "</thead>\n",
    "<tbody>\n",
    "<tr>\n",
    "<td style=\"text-align:right;\">64</td>\n",
    "<td style=\"text-align:left;\">Kongō Gumi</td>\n",
    "<td style=\"text-align:right;\">578</td>\n",
    "<td style=\"text-align:left;\">CAT6</td>\n",
    "<td style=\"text-align:left;\">JPN</td>\n",
    "</tr>\n",
    "</tbody>\n",
    "</table>\n",
    "<p>We know Kongō Gumi was founded in the year 578 in Japan, but it's a little hard to decipher which industry it's in. Information about what the <code>category_code</code> column refers to is in <code>\"datasets/categories.csv\"</code>: </p>\n",
    "<h3 id=\"categories\"><code>categories</code></h3>\n",
    "<table>\n",
    "<thead>\n",
    "<tr>\n",
    "<th style=\"text-align:left;\">column</th>\n",
    "<th>type</th>\n",
    "<th>meaning</th>\n",
    "</tr>\n",
    "</thead>\n",
    "<tbody>\n",
    "<tr>\n",
    "<td style=\"text-align:left;\"><code>category_code</code></td>\n",
    "<td>varchar</td>\n",
    "<td>Code for the category of the business.</td>\n",
    "</tr>\n",
    "<tr>\n",
    "<td style=\"text-align:left;\"><code>category</code></td>\n",
    "<td>varchar</td>\n",
    "<td>Description of the business category.</td>\n",
    "</tr>\n",
    "</tbody>\n",
    "</table>\n",
    "<p>Let's use <code>categories.csv</code> to understand how many oldest businesses are in each category of industry.</p>"
   ]
  },
  {
   "cell_type": "code",
   "execution_count": 137,
   "metadata": {
    "dc": {
     "key": "39"
    },
    "tags": [
     "sample_code"
    ]
   },
   "outputs": [
    {
     "data": {
      "text/html": [
       "<div>\n",
       "<style scoped>\n",
       "    .dataframe tbody tr th:only-of-type {\n",
       "        vertical-align: middle;\n",
       "    }\n",
       "\n",
       "    .dataframe tbody tr th {\n",
       "        vertical-align: top;\n",
       "    }\n",
       "\n",
       "    .dataframe thead th {\n",
       "        text-align: right;\n",
       "    }\n",
       "</style>\n",
       "<table border=\"1\" class=\"dataframe\">\n",
       "  <thead>\n",
       "    <tr style=\"text-align: right;\">\n",
       "      <th></th>\n",
       "      <th>count</th>\n",
       "    </tr>\n",
       "    <tr>\n",
       "      <th>category</th>\n",
       "      <th></th>\n",
       "    </tr>\n",
       "  </thead>\n",
       "  <tbody>\n",
       "    <tr>\n",
       "      <th>Agriculture</th>\n",
       "      <td>6</td>\n",
       "    </tr>\n",
       "    <tr>\n",
       "      <th>Aviation &amp; Transport</th>\n",
       "      <td>19</td>\n",
       "    </tr>\n",
       "    <tr>\n",
       "      <th>Banking &amp; Finance</th>\n",
       "      <td>37</td>\n",
       "    </tr>\n",
       "    <tr>\n",
       "      <th>Cafés, Restaurants &amp; Bars</th>\n",
       "      <td>6</td>\n",
       "    </tr>\n",
       "    <tr>\n",
       "      <th>Conglomerate</th>\n",
       "      <td>3</td>\n",
       "    </tr>\n",
       "  </tbody>\n",
       "</table>\n",
       "</div>"
      ],
      "text/plain": [
       "                           count\n",
       "category                        \n",
       "Agriculture                    6\n",
       "Aviation & Transport          19\n",
       "Banking & Finance             37\n",
       "Cafés, Restaurants & Bars      6\n",
       "Conglomerate                   3"
      ]
     },
     "metadata": {},
     "output_type": "display_data"
    },
    {
     "data": {
      "text/html": [
       "<div>\n",
       "<style scoped>\n",
       "    .dataframe tbody tr th:only-of-type {\n",
       "        vertical-align: middle;\n",
       "    }\n",
       "\n",
       "    .dataframe tbody tr th {\n",
       "        vertical-align: top;\n",
       "    }\n",
       "\n",
       "    .dataframe thead th {\n",
       "        text-align: right;\n",
       "    }\n",
       "</style>\n",
       "<table border=\"1\" class=\"dataframe\">\n",
       "  <thead>\n",
       "    <tr style=\"text-align: right;\">\n",
       "      <th></th>\n",
       "      <th>total_years_in_business</th>\n",
       "    </tr>\n",
       "    <tr>\n",
       "      <th>category</th>\n",
       "      <th></th>\n",
       "    </tr>\n",
       "  </thead>\n",
       "  <tbody>\n",
       "    <tr>\n",
       "      <th>Agriculture</th>\n",
       "      <td>10669</td>\n",
       "    </tr>\n",
       "    <tr>\n",
       "      <th>Aviation &amp; Transport</th>\n",
       "      <td>36598</td>\n",
       "    </tr>\n",
       "    <tr>\n",
       "      <th>Banking &amp; Finance</th>\n",
       "      <td>70302</td>\n",
       "    </tr>\n",
       "    <tr>\n",
       "      <th>Cafés, Restaurants &amp; Bars</th>\n",
       "      <td>8532</td>\n",
       "    </tr>\n",
       "    <tr>\n",
       "      <th>Conglomerate</th>\n",
       "      <td>5671</td>\n",
       "    </tr>\n",
       "  </tbody>\n",
       "</table>\n",
       "</div>"
      ],
      "text/plain": [
       "                           total_years_in_business\n",
       "category                                          \n",
       "Agriculture                                  10669\n",
       "Aviation & Transport                         36598\n",
       "Banking & Finance                            70302\n",
       "Cafés, Restaurants & Bars                     8532\n",
       "Conglomerate                                  5671"
      ]
     },
     "metadata": {},
     "output_type": "display_data"
    }
   ],
   "source": [
    "# Import categories.csv and merge to businesses\n",
    "categories = pd.read_csv(\"datasets/categories.csv\")\n",
    "businesses_categories = businesses.merge(categories, on='category_code')\n",
    "\n",
    "# Create a DataFrame which lists the number of oldest businesses in each category\n",
    "count_business_cats = businesses_categories.groupby(['category']).agg({'business': 'count'})\n",
    "\n",
    "# Create a DataFrame which lists the cumulative years businesses from each category have been operating\n",
    "years_business_cats = businesses_categories.groupby(\"category\").agg({'year_founded': 'sum'})\n",
    "\n",
    "# Rename columns and display the first five rows of both DataFrames\n",
    "count_business_cats.columns = ['count']\n",
    "years_business_cats.columns = ['total_years_in_business']\n",
    "display(count_business_cats.head(), years_business_cats.head())"
   ]
  },
  {
   "cell_type": "markdown",
   "metadata": {
    "dc": {
     "key": "46"
    },
    "deletable": false,
    "editable": false,
    "run_control": {
     "frozen": true
    },
    "tags": [
     "context"
    ]
   },
   "source": [
    "## 7. Restaurant representation\n",
    "<p>No matter how we measure it, looks like Banking and Finance is an excellent industry to be in if longevity is our goal! Let's zoom in on another industry: cafés, restaurants, and bars. Which restaurants in our dataset have been around since before the year 1800?</p>"
   ]
  },
  {
   "cell_type": "code",
   "execution_count": 139,
   "metadata": {
    "dc": {
     "key": "46"
    },
    "tags": [
     "sample_code"
    ]
   },
   "outputs": [
    {
     "data": {
      "text/html": [
       "<div>\n",
       "<style scoped>\n",
       "    .dataframe tbody tr th:only-of-type {\n",
       "        vertical-align: middle;\n",
       "    }\n",
       "\n",
       "    .dataframe tbody tr th {\n",
       "        vertical-align: top;\n",
       "    }\n",
       "\n",
       "    .dataframe thead th {\n",
       "        text-align: right;\n",
       "    }\n",
       "</style>\n",
       "<table border=\"1\" class=\"dataframe\">\n",
       "  <thead>\n",
       "    <tr style=\"text-align: right;\">\n",
       "      <th></th>\n",
       "      <th>business</th>\n",
       "      <th>year_founded</th>\n",
       "      <th>category_code</th>\n",
       "      <th>country_code</th>\n",
       "      <th>category</th>\n",
       "    </tr>\n",
       "  </thead>\n",
       "  <tbody>\n",
       "    <tr>\n",
       "      <th>142</th>\n",
       "      <td>St. Peter Stifts Kulinarium</td>\n",
       "      <td>803</td>\n",
       "      <td>CAT4</td>\n",
       "      <td>AUT</td>\n",
       "      <td>Cafés, Restaurants &amp; Bars</td>\n",
       "    </tr>\n",
       "    <tr>\n",
       "      <th>143</th>\n",
       "      <td>Sean's Bar</td>\n",
       "      <td>900</td>\n",
       "      <td>CAT4</td>\n",
       "      <td>IRL</td>\n",
       "      <td>Cafés, Restaurants &amp; Bars</td>\n",
       "    </tr>\n",
       "    <tr>\n",
       "      <th>139</th>\n",
       "      <td>Ma Yu Ching's Bucket Chicken House</td>\n",
       "      <td>1153</td>\n",
       "      <td>CAT4</td>\n",
       "      <td>CHN</td>\n",
       "      <td>Cafés, Restaurants &amp; Bars</td>\n",
       "    </tr>\n",
       "  </tbody>\n",
       "</table>\n",
       "</div>"
      ],
      "text/plain": [
       "                               business  year_founded category_code  \\\n",
       "142         St. Peter Stifts Kulinarium           803          CAT4   \n",
       "143                          Sean's Bar           900          CAT4   \n",
       "139  Ma Yu Ching's Bucket Chicken House          1153          CAT4   \n",
       "\n",
       "    country_code                   category  \n",
       "142          AUT  Cafés, Restaurants & Bars  \n",
       "143          IRL  Cafés, Restaurants & Bars  \n",
       "139          CHN  Cafés, Restaurants & Bars  "
      ]
     },
     "execution_count": 139,
     "metadata": {},
     "output_type": "execute_result"
    }
   ],
   "source": [
    "# Filter using .query() for CAT4 businesses founded before 1800; sort results\n",
    "old_restaurants = businesses_categories.query('category_code == \"CAT4\" and year_founded < 1800')\n",
    "\n",
    "# Sort the DataFrame\n",
    "old_restaurants = old_restaurants.sort_values(by='year_founded')\n",
    "old_restaurants"
   ]
  },
  {
   "cell_type": "markdown",
   "metadata": {
    "dc": {
     "key": "54"
    },
    "deletable": false,
    "editable": false,
    "run_control": {
     "frozen": true
    },
    "tags": [
     "context"
    ]
   },
   "source": [
    "## 8. Categories and continents\n",
    "<p>St. Peter Stifts Kulinarium is old enough that the restaurant is believed to have served Mozart - and it would have been over 900 years old even when he was a patron! Let's finish by looking at the oldest business in each category of commerce for each continent. </p>"
   ]
  },
  {
   "cell_type": "code",
   "execution_count": 141,
   "metadata": {
    "dc": {
     "key": "54"
    },
    "tags": [
     "sample_code"
    ]
   },
   "outputs": [
    {
     "data": {
      "text/html": [
       "<div>\n",
       "<style scoped>\n",
       "    .dataframe tbody tr th:only-of-type {\n",
       "        vertical-align: middle;\n",
       "    }\n",
       "\n",
       "    .dataframe tbody tr th {\n",
       "        vertical-align: top;\n",
       "    }\n",
       "\n",
       "    .dataframe thead th {\n",
       "        text-align: right;\n",
       "    }\n",
       "</style>\n",
       "<table border=\"1\" class=\"dataframe\">\n",
       "  <thead>\n",
       "    <tr style=\"text-align: right;\">\n",
       "      <th></th>\n",
       "      <th></th>\n",
       "      <th>year_founded</th>\n",
       "    </tr>\n",
       "    <tr>\n",
       "      <th>continent</th>\n",
       "      <th>category</th>\n",
       "      <th></th>\n",
       "    </tr>\n",
       "  </thead>\n",
       "  <tbody>\n",
       "    <tr>\n",
       "      <th rowspan=\"5\" valign=\"top\">Africa</th>\n",
       "      <th>Agriculture</th>\n",
       "      <td>1947</td>\n",
       "    </tr>\n",
       "    <tr>\n",
       "      <th>Aviation &amp; Transport</th>\n",
       "      <td>1854</td>\n",
       "    </tr>\n",
       "    <tr>\n",
       "      <th>Banking &amp; Finance</th>\n",
       "      <td>1892</td>\n",
       "    </tr>\n",
       "    <tr>\n",
       "      <th>Distillers, Vintners, &amp; Breweries</th>\n",
       "      <td>1933</td>\n",
       "    </tr>\n",
       "    <tr>\n",
       "      <th>Energy</th>\n",
       "      <td>1968</td>\n",
       "    </tr>\n",
       "  </tbody>\n",
       "</table>\n",
       "</div>"
      ],
      "text/plain": [
       "                                             year_founded\n",
       "continent category                                       \n",
       "Africa    Agriculture                                1947\n",
       "          Aviation & Transport                       1854\n",
       "          Banking & Finance                          1892\n",
       "          Distillers, Vintners, & Breweries          1933\n",
       "          Energy                                     1968"
      ]
     },
     "execution_count": 141,
     "metadata": {},
     "output_type": "execute_result"
    }
   ],
   "source": [
    "# Merge all businesses, countries, and categories together\n",
    "businesses_categories_countries = businesses_categories.merge(countries, on=\"country_code\")\n",
    "\n",
    "# Sort businesses_categories_countries from oldest to most recent\n",
    "businesses_categories_countries = businesses_categories_countries.sort_values(\"year_founded\")\n",
    "\n",
    "# Create the oldest by continent and category DataFrame\n",
    "oldest_by_continent_category = businesses_categories_countries.groupby([\"continent\", \"category\"]).agg({\"year_founded\":\"min\"})\n",
    "oldest_by_continent_category.head()"
   ]
  }
 ],
 "metadata": {
  "kernelspec": {
   "display_name": "Python 3 (ipykernel)",
   "language": "python",
   "name": "python3"
  },
  "language_info": {
   "codemirror_mode": {
    "name": "ipython",
    "version": 3
   },
   "file_extension": ".py",
   "mimetype": "text/x-python",
   "name": "python",
   "nbconvert_exporter": "python",
   "pygments_lexer": "ipython3",
   "version": "3.10.6"
  }
 },
 "nbformat": 4,
 "nbformat_minor": 2
}
